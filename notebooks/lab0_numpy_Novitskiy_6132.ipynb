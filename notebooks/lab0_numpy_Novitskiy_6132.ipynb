{
 "cells": [
  {
   "cell_type": "markdown",
   "id": "2775d14b",
   "metadata": {},
   "source": [
    "## Лабораторная работа №0 (NumPy)\n",
    "\n",
    "Выполнил: Новицкий Никита (6132-010402D)"
   ]
  },
  {
   "cell_type": "code",
   "execution_count": 1,
   "id": "16f7563d",
   "metadata": {},
   "outputs": [],
   "source": [
    "import numpy as np"
   ]
  },
  {
   "cell_type": "markdown",
   "id": "70f9158b",
   "metadata": {},
   "source": [
    "Взять из документации по numpy 12 любых функций / методов / операторов и продемонстрировать их работу. Для каждой функции добавить комментарий."
   ]
  },
  {
   "cell_type": "code",
   "execution_count": 2,
   "id": "ea138a69",
   "metadata": {},
   "outputs": [],
   "source": [
    "# Для начала сгенирируем массивы, который будем использовать для выполнения первого задания\n",
    "arr1, arr2 = np.random.randn(3, 3), np.random.randn(3, 3)"
   ]
  },
  {
   "cell_type": "code",
   "execution_count": 3,
   "id": "db3d31ed",
   "metadata": {},
   "outputs": [
    {
     "data": {
      "text/plain": [
       "array([[ 1.14353432, -0.91432677,  1.97025236],\n",
       "       [ 2.28490208, -1.25958194, -0.36805586],\n",
       "       [-0.11315207,  0.3953461 , -0.0353363 ]])"
      ]
     },
     "execution_count": 3,
     "metadata": {},
     "output_type": "execute_result"
    }
   ],
   "source": [
    "arr1"
   ]
  },
  {
   "cell_type": "code",
   "execution_count": 4,
   "id": "beb32c51",
   "metadata": {},
   "outputs": [
    {
     "data": {
      "text/plain": [
       "2.284902084749465"
      ]
     },
     "execution_count": 4,
     "metadata": {},
     "output_type": "execute_result"
    }
   ],
   "source": [
    "# Максимальное значение в массиве\n",
    "arr1.max()"
   ]
  },
  {
   "cell_type": "markdown",
   "id": "1b465d4f",
   "metadata": {},
   "source": [
    "Чтобы мы могли понять, что делает та или иная функция мы будем использовать следующую конструкцию: ?np.max (будет появляться окошко, где подробно будет описано, что это за функция и для чего она нужна)"
   ]
  },
  {
   "cell_type": "code",
   "execution_count": null,
   "id": "fbcdbdf0",
   "metadata": {},
   "outputs": [],
   "source": [
    "?np.max"
   ]
  },
  {
   "cell_type": "code",
   "execution_count": 5,
   "id": "975cca51",
   "metadata": {},
   "outputs": [
    {
     "data": {
      "text/plain": [
       "-1.2595819364141254"
      ]
     },
     "execution_count": 5,
     "metadata": {},
     "output_type": "execute_result"
    }
   ],
   "source": [
    "# Минимальное значение в массиве\n",
    "arr1.min()"
   ]
  },
  {
   "cell_type": "code",
   "execution_count": null,
   "id": "1aa5711e",
   "metadata": {},
   "outputs": [],
   "source": [
    "?np.max"
   ]
  },
  {
   "cell_type": "code",
   "execution_count": 6,
   "id": "a01cf540",
   "metadata": {},
   "outputs": [
    {
     "data": {
      "text/plain": [
       "array([[ 1.14353432,  2.28490208, -0.11315207],\n",
       "       [-0.91432677, -1.25958194,  0.3953461 ],\n",
       "       [ 1.97025236, -0.36805586, -0.0353363 ]])"
      ]
     },
     "execution_count": 6,
     "metadata": {},
     "output_type": "execute_result"
    }
   ],
   "source": [
    "# Транспонирование массива\n",
    "arr1.T"
   ]
  },
  {
   "cell_type": "code",
   "execution_count": null,
   "id": "b8a8f6f2",
   "metadata": {},
   "outputs": [],
   "source": [
    "?np.transpose"
   ]
  },
  {
   "cell_type": "code",
   "execution_count": 7,
   "id": "21c0280e",
   "metadata": {},
   "outputs": [
    {
     "data": {
      "text/plain": [
       "array([[-0.91432677,  1.14353432,  1.97025236],\n",
       "       [-1.25958194, -0.36805586,  2.28490208],\n",
       "       [-0.11315207, -0.0353363 ,  0.3953461 ]])"
      ]
     },
     "execution_count": 7,
     "metadata": {},
     "output_type": "execute_result"
    }
   ],
   "source": [
    "# Сортировка массива\n",
    "np.sort(arr1)"
   ]
  },
  {
   "cell_type": "code",
   "execution_count": null,
   "id": "c49d560d",
   "metadata": {},
   "outputs": [],
   "source": [
    "?np.sort"
   ]
  },
  {
   "cell_type": "code",
   "execution_count": 8,
   "id": "6f69b6c0",
   "metadata": {},
   "outputs": [
    {
     "data": {
      "text/plain": [
       "(3, 3)"
      ]
     },
     "execution_count": 8,
     "metadata": {},
     "output_type": "execute_result"
    }
   ],
   "source": [
    "# Размерность массива\n",
    "arr1.shape"
   ]
  },
  {
   "cell_type": "code",
   "execution_count": null,
   "id": "620aa8df",
   "metadata": {},
   "outputs": [],
   "source": [
    "?np.shape"
   ]
  },
  {
   "cell_type": "code",
   "execution_count": 9,
   "id": "fa49bb81",
   "metadata": {},
   "outputs": [
    {
     "data": {
      "text/plain": [
       "-3.4624920197505173"
      ]
     },
     "execution_count": 9,
     "metadata": {},
     "output_type": "execute_result"
    }
   ],
   "source": [
    "# Определитель матрицы\n",
    "np.linalg.det(np.random.randn(5, 5))"
   ]
  },
  {
   "cell_type": "code",
   "execution_count": null,
   "id": "ec22995b",
   "metadata": {},
   "outputs": [],
   "source": [
    "?np.linalg.det"
   ]
  },
  {
   "cell_type": "code",
   "execution_count": 10,
   "id": "4cc5eb7c",
   "metadata": {},
   "outputs": [
    {
     "data": {
      "text/plain": [
       "array([[ 0.05809638],\n",
       "       [ 0.92703732],\n",
       "       [-0.22447447]])"
      ]
     },
     "execution_count": 10,
     "metadata": {},
     "output_type": "execute_result"
    }
   ],
   "source": [
    "# Решение СЛАУ с помощью NumPy\n",
    "A = np.random.randn(3, 3)\n",
    "B = np.random.randn(3, 1)\n",
    "np.linalg.solve(A, B)"
   ]
  },
  {
   "cell_type": "code",
   "execution_count": null,
   "id": "d5adebe6",
   "metadata": {},
   "outputs": [],
   "source": [
    "?np.linalg.solve"
   ]
  },
  {
   "cell_type": "code",
   "execution_count": 11,
   "id": "bb48a0f7",
   "metadata": {},
   "outputs": [
    {
     "data": {
      "text/plain": [
       "array([[ 1.44843418,  0.42594984,  1.37048104],\n",
       "       [ 0.45966347, -0.04123357, -1.1693023 ],\n",
       "       [ 0.34043458,  0.12552982,  0.48291852]])"
      ]
     },
     "execution_count": 11,
     "metadata": {},
     "output_type": "execute_result"
    }
   ],
   "source": [
    "# Матричное произведение\n",
    "np.matmul(arr1, arr2)"
   ]
  },
  {
   "cell_type": "code",
   "execution_count": null,
   "id": "6ecdca96",
   "metadata": {},
   "outputs": [],
   "source": [
    "?np.matmul"
   ]
  },
  {
   "cell_type": "code",
   "execution_count": 12,
   "id": "bc3ebb93",
   "metadata": {},
   "outputs": [
    {
     "data": {
      "text/plain": [
       "array([[ 0.11843839,  0.46536954,  1.75659367],\n",
       "       [ 0.07628331,  0.11377077,  3.0683279 ],\n",
       "       [ 0.47420804, -0.21730332,  0.40437925]])"
      ]
     },
     "execution_count": 12,
     "metadata": {},
     "output_type": "execute_result"
    }
   ],
   "source": [
    "# Обратная матрица\n",
    "np.linalg.inv(arr1)"
   ]
  },
  {
   "cell_type": "code",
   "execution_count": null,
   "id": "bd2a9365",
   "metadata": {},
   "outputs": [],
   "source": [
    "?np.linalg.inv"
   ]
  },
  {
   "cell_type": "code",
   "execution_count": 13,
   "id": "83c2a982",
   "metadata": {},
   "outputs": [
    {
     "data": {
      "text/plain": [
       "array([[[ 1.14353432, -0.91432677,  1.97025236],\n",
       "        [ 2.28490208, -1.25958194, -0.36805586],\n",
       "        [-0.11315207,  0.3953461 , -0.0353363 ]],\n",
       "\n",
       "       [[ 0.98346883,  0.25176485,  0.46645151],\n",
       "        [ 1.20735254,  0.41296834,  1.45326478],\n",
       "        [ 0.72463741,  0.26171068,  1.09926864]]])"
      ]
     },
     "execution_count": 13,
     "metadata": {},
     "output_type": "execute_result"
    }
   ],
   "source": [
    "# Объединение массивов\n",
    "np.stack((arr1, arr2))"
   ]
  },
  {
   "cell_type": "code",
   "execution_count": null,
   "id": "f34dd37e",
   "metadata": {},
   "outputs": [],
   "source": [
    "?np.stack"
   ]
  },
  {
   "cell_type": "code",
   "execution_count": 14,
   "id": "495a184f",
   "metadata": {},
   "outputs": [
    {
     "data": {
      "text/plain": [
       "3"
      ]
     },
     "execution_count": 14,
     "metadata": {},
     "output_type": "execute_result"
    }
   ],
   "source": [
    "# Найдем индекс максимального элемента в массиве\n",
    "np.argmax(arr1)"
   ]
  },
  {
   "cell_type": "code",
   "execution_count": null,
   "id": "5ebe65ea",
   "metadata": {},
   "outputs": [],
   "source": [
    "?np.argmax"
   ]
  },
  {
   "cell_type": "code",
   "execution_count": 15,
   "id": "256c6fdf",
   "metadata": {},
   "outputs": [
    {
     "name": "stdout",
     "output_type": "stream",
     "text": [
      "class:  ndarray\n",
      "shape:  (3, 3)\n",
      "strides:  (24, 8)\n",
      "itemsize:  8\n",
      "aligned:  True\n",
      "contiguous:  True\n",
      "fortran:  False\n",
      "data pointer: 0x6000002112c0\n",
      "byteorder:  little\n",
      "byteswap:  False\n",
      "type: float64\n"
     ]
    }
   ],
   "source": [
    "# Выведем информацию по массиву\n",
    "np.info(arr2)"
   ]
  },
  {
   "cell_type": "code",
   "execution_count": null,
   "id": "007c81eb",
   "metadata": {},
   "outputs": [],
   "source": [
    "?np.info"
   ]
  },
  {
   "cell_type": "markdown",
   "id": "ce90dfff",
   "metadata": {},
   "source": [
    "Сгенерировать OLAP-куб, где фиксируем продажи товаров в розничной сети по магазинам. Оси: 0: ID группы товаров 1: ID магазина 2: день месяца, в котором осуществляются продажи (предположим у нас в OLAP-кубе собраны продажи за месяц).\n",
    "\n",
    "Содержимое ячейки: продажи в тыс. рублей данной категории товаров в данном магазине в данный день.\n",
    "\n",
    "Рекомендуется сгенерировать статистически-правдопододные данные в ячейках. К примеру, будет странно, если продажи одной и той же группы товаров в соседние дни будут представлять из себя \"белый шум\". Пусть будет какой-то правдоподобное распределение на ваш вкус. Также продажи одних и тех же групп товаров в разных магазинах не могут отличаться в сотни и тысячи раз, максимум в разы. Подумайте как это обыграть используя различные функции генерации случайных чисел + \"смекалку\"."
   ]
  },
  {
   "cell_type": "code",
   "execution_count": 16,
   "id": "b2cc4646",
   "metadata": {},
   "outputs": [],
   "source": [
    "products = np.arange(0, 22, 1)\n",
    "shops = np.arange(0, 5, 1)\n",
    "days = np.arange(1, 31, 1)\n",
    "cube = np.zeros([products.size, shops.size, days.size])\n",
    "\n",
    "for p in range(products.size):\n",
    "    for s in range(shops.size):\n",
    "        for d in range(days.size):\n",
    "            cube[p, s, d] = np.random.randint(10, 80)"
   ]
  },
  {
   "cell_type": "code",
   "execution_count": 17,
   "id": "4aea4854",
   "metadata": {},
   "outputs": [
    {
     "data": {
      "text/plain": [
       "array([[[30., 55., 18., ..., 14., 70., 55.],\n",
       "        [28., 15., 60., ..., 28., 28., 11.],\n",
       "        [59., 15., 50., ..., 71., 78., 20.],\n",
       "        [60., 66., 42., ..., 42., 11., 70.],\n",
       "        [43., 12., 33., ..., 10., 12., 48.]],\n",
       "\n",
       "       [[54., 64., 68., ..., 66., 60., 32.],\n",
       "        [66., 74., 42., ..., 31., 35., 30.],\n",
       "        [40., 76., 43., ..., 42., 16., 12.],\n",
       "        [32., 64., 63., ..., 66., 49., 68.],\n",
       "        [49., 74., 56., ..., 14., 28., 32.]],\n",
       "\n",
       "       [[77., 64., 62., ..., 24., 51., 50.],\n",
       "        [59., 14., 35., ..., 56., 63., 44.],\n",
       "        [74., 12., 65., ..., 74., 21., 32.],\n",
       "        [47., 50., 10., ..., 67., 51., 37.],\n",
       "        [62., 24., 60., ..., 41., 17., 26.]],\n",
       "\n",
       "       ...,\n",
       "\n",
       "       [[75., 75., 64., ..., 12., 56., 68.],\n",
       "        [46., 40., 46., ..., 45., 11., 48.],\n",
       "        [10., 53., 73., ..., 36., 26., 36.],\n",
       "        [24., 57., 69., ..., 72., 36., 56.],\n",
       "        [53., 44., 77., ..., 20., 51., 48.]],\n",
       "\n",
       "       [[56., 34., 57., ..., 20., 57., 61.],\n",
       "        [20., 18., 28., ..., 20., 74., 47.],\n",
       "        [14., 76., 17., ..., 67., 33., 41.],\n",
       "        [65., 21., 45., ..., 46., 24., 59.],\n",
       "        [61., 25., 57., ..., 35., 18., 59.]],\n",
       "\n",
       "       [[23., 41., 38., ..., 68., 14., 75.],\n",
       "        [21., 35., 71., ..., 32., 64., 40.],\n",
       "        [20., 59., 19., ..., 43., 47., 18.],\n",
       "        [28., 74., 28., ..., 59., 61., 71.],\n",
       "        [13., 48., 64., ..., 74., 26., 49.]]])"
      ]
     },
     "execution_count": 17,
     "metadata": {},
     "output_type": "execute_result"
    }
   ],
   "source": [
    "cube"
   ]
  },
  {
   "cell_type": "markdown",
   "id": "6bdd74c9",
   "metadata": {},
   "source": [
    "Для получившегося OLAP-куба посчитать суммарные, средние, минимальные и максимальные продажи (на самом деле любые агрегатные функции можно использовать)зафиксировав значения по одной, двум или трём осям:\n",
    "\n",
    "Например взять какой-то определённый набор товаров и набор городов или диапазон дней и сагрегировать данные по всем ячейкам из зафиксированного набора. Пример: получить сумму, среднее, минимум и максимум по продажам 10-20 чисел месяца для товаров [1,3,4] по всем городам (или по конкретному набору городов).\n",
    "\n",
    "Попробуйте различные варианты индексации и различные варианты срезов, насколько хватит фантазии."
   ]
  },
  {
   "cell_type": "code",
   "execution_count": 18,
   "id": "7bb24aea",
   "metadata": {},
   "outputs": [
    {
     "name": "stdout",
     "output_type": "stream",
     "text": [
      "Общая сумма продаж всех товаров во всех магазинах за весь месяц: \n",
      "\n",
      "149796.0\n",
      "Сумма по продажам 7-9 чисел месяца для товара 7 по всем магазинам: \n",
      "\n",
      "442.0\n",
      "Минимум по продажам 10-20 чисел месяца для товара 16 в магазине 3: \n",
      "\n",
      "14.0\n",
      "Минимум по продажам 15-20 чисел месяца для товара 7 в магазине 4: \n",
      "\n",
      "23.0\n",
      "Стандартное отклонение по продажам 1-10 чисел месяца для товара 4 по всем магазинам: \n",
      "\n",
      "19.73606850413729\n",
      "Максимум по продажам за все время для товара 9 в магазине 3: \n",
      "\n",
      "77.0\n",
      "Cреднее по продажам за все время для товара 2 в магазине 2: \n",
      "\n",
      "49.53333333333333\n"
     ]
    }
   ],
   "source": [
    "print(\"Общая сумма продаж всех товаров во всех магазинах за весь месяц: \\n\")\n",
    "print(np.sum(cube[:, :, :]))\n",
    "print(\"Сумма по продажам 7-9 чисел месяца для товара 7 по всем магазинам: \\n\")\n",
    "print(np.sum(cube[7, :, [days[6:8]]]))\n",
    "print(\"Минимум по продажам 10-20 чисел месяца для товара 16 в магазине 3: \\n\")\n",
    "print(np.min(cube[16, 3, [days[9:20]]]))\n",
    "print(\"Минимум по продажам 15-20 чисел месяца для товара 7 в магазине 4: \\n\")\n",
    "print(np.min(cube[7, 4, [days[14:20]]]))\n",
    "print(\"Стандартное отклонение по продажам 1-10 чисел месяца для товара 4 по всем магазинам: \\n\")\n",
    "print(np.std(cube[4, :, [days[0:10]]]))\n",
    "print(\"Максимум по продажам за все время для товара 9 в магазине 3: \\n\")\n",
    "print(np.max(cube[9, 3, :]))\n",
    "print(\"Cреднее по продажам за все время для товара 2 в магазине 2: \\n\")\n",
    "print(np.mean(cube[2, 2, :]))"
   ]
  }
 ],
 "metadata": {
  "kernelspec": {
   "display_name": "Python 3 (ipykernel)",
   "language": "python",
   "name": "python3"
  },
  "language_info": {
   "codemirror_mode": {
    "name": "ipython",
    "version": 3
   },
   "file_extension": ".py",
   "mimetype": "text/x-python",
   "name": "python",
   "nbconvert_exporter": "python",
   "pygments_lexer": "ipython3",
   "version": "3.9.7"
  }
 },
 "nbformat": 4,
 "nbformat_minor": 5
}
