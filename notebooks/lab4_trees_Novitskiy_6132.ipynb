{
 "cells": [
  {
   "cell_type": "markdown",
   "id": "9855ee2e",
   "metadata": {},
   "source": [
    "# Лабораторная работа 4\n",
    "\n",
    "Деревья решений\n",
    "\n",
    "Выполнил: Новицкий Никита (6132-010402D)\n",
    "\n",
    "1 Выберите набор данных для классификации (бинарной или многоклассовой — не важно). Опишите данные, что обозначает каждый столбец, какого типа (категориальный, вещественный, целочисленный, бинарный) данный столбец, при необходимости для категориальных в том числе бинарных признаков привести расшифровку их значений. В общем, проведите \"визуальный\" анализ ваших данных.\n",
    "\n",
    "Набор данных: https://www.kaggle.com/datasets/pritsheta/diabetes-dataset"
   ]
  },
  {
   "cell_type": "code",
   "execution_count": 1,
   "id": "998c414b",
   "metadata": {},
   "outputs": [],
   "source": [
    "import pandas as pd\n",
    "import numpy as np\n",
    "import seaborn as sns\n",
    "import matplotlib.pyplot as plt\n",
    "\n",
    "from sklearn.model_selection import train_test_split, GridSearchCV\n",
    "from sklearn.tree import DecisionTreeClassifier\n",
    "from sklearn.ensemble import RandomForestClassifier\n",
    "from sklearn.neighbors import KNeighborsClassifier\n",
    "from sklearn.pipeline import Pipeline\n",
    "from sklearn.preprocessing import MinMaxScaler\n",
    "from sklearn.metrics import classification_report, accuracy_score\n",
    "\n",
    "from warnings import filterwarnings\n",
    "filterwarnings(\"ignore\")"
   ]
  },
  {
   "cell_type": "markdown",
   "id": "e0a1ede1",
   "metadata": {},
   "source": [
    "Считываем набор данных"
   ]
  },
  {
   "cell_type": "code",
   "execution_count": 2,
   "id": "a8241fcf",
   "metadata": {},
   "outputs": [],
   "source": [
    "df = pd.read_excel(\"diabetes.xlsx\")"
   ]
  },
  {
   "cell_type": "code",
   "execution_count": 3,
   "id": "9bf71785",
   "metadata": {},
   "outputs": [
    {
     "data": {
      "text/html": [
       "<div>\n",
       "<style scoped>\n",
       "    .dataframe tbody tr th:only-of-type {\n",
       "        vertical-align: middle;\n",
       "    }\n",
       "\n",
       "    .dataframe tbody tr th {\n",
       "        vertical-align: top;\n",
       "    }\n",
       "\n",
       "    .dataframe thead th {\n",
       "        text-align: right;\n",
       "    }\n",
       "</style>\n",
       "<table border=\"1\" class=\"dataframe\">\n",
       "  <thead>\n",
       "    <tr style=\"text-align: right;\">\n",
       "      <th></th>\n",
       "      <th>Pregnancies</th>\n",
       "      <th>Glucose</th>\n",
       "      <th>BloodPressure</th>\n",
       "      <th>SkinThickness</th>\n",
       "      <th>Insulin</th>\n",
       "      <th>BMI</th>\n",
       "      <th>DiabetesPedigreeFunction</th>\n",
       "      <th>Age</th>\n",
       "      <th>Outcome</th>\n",
       "    </tr>\n",
       "  </thead>\n",
       "  <tbody>\n",
       "    <tr>\n",
       "      <th>0</th>\n",
       "      <td>6</td>\n",
       "      <td>148</td>\n",
       "      <td>72</td>\n",
       "      <td>35</td>\n",
       "      <td>0</td>\n",
       "      <td>33.6</td>\n",
       "      <td>0.627</td>\n",
       "      <td>50</td>\n",
       "      <td>Yes</td>\n",
       "    </tr>\n",
       "    <tr>\n",
       "      <th>1</th>\n",
       "      <td>1</td>\n",
       "      <td>85</td>\n",
       "      <td>66</td>\n",
       "      <td>29</td>\n",
       "      <td>0</td>\n",
       "      <td>26.6</td>\n",
       "      <td>0.351</td>\n",
       "      <td>31</td>\n",
       "      <td>No</td>\n",
       "    </tr>\n",
       "    <tr>\n",
       "      <th>2</th>\n",
       "      <td>8</td>\n",
       "      <td>183</td>\n",
       "      <td>64</td>\n",
       "      <td>0</td>\n",
       "      <td>0</td>\n",
       "      <td>23.3</td>\n",
       "      <td>0.672</td>\n",
       "      <td>32</td>\n",
       "      <td>Yes</td>\n",
       "    </tr>\n",
       "    <tr>\n",
       "      <th>3</th>\n",
       "      <td>1</td>\n",
       "      <td>89</td>\n",
       "      <td>66</td>\n",
       "      <td>23</td>\n",
       "      <td>94</td>\n",
       "      <td>28.1</td>\n",
       "      <td>0.167</td>\n",
       "      <td>21</td>\n",
       "      <td>No</td>\n",
       "    </tr>\n",
       "    <tr>\n",
       "      <th>4</th>\n",
       "      <td>0</td>\n",
       "      <td>137</td>\n",
       "      <td>40</td>\n",
       "      <td>35</td>\n",
       "      <td>168</td>\n",
       "      <td>43.1</td>\n",
       "      <td>2.288</td>\n",
       "      <td>33</td>\n",
       "      <td>Yes</td>\n",
       "    </tr>\n",
       "  </tbody>\n",
       "</table>\n",
       "</div>"
      ],
      "text/plain": [
       "   Pregnancies  Glucose  BloodPressure  SkinThickness  Insulin   BMI  \\\n",
       "0            6      148             72             35        0  33.6   \n",
       "1            1       85             66             29        0  26.6   \n",
       "2            8      183             64              0        0  23.3   \n",
       "3            1       89             66             23       94  28.1   \n",
       "4            0      137             40             35      168  43.1   \n",
       "\n",
       "   DiabetesPedigreeFunction  Age Outcome  \n",
       "0                     0.627   50     Yes  \n",
       "1                     0.351   31      No  \n",
       "2                     0.672   32     Yes  \n",
       "3                     0.167   21      No  \n",
       "4                     2.288   33     Yes  "
      ]
     },
     "execution_count": 3,
     "metadata": {},
     "output_type": "execute_result"
    }
   ],
   "source": [
    "df.head(5)"
   ]
  },
  {
   "cell_type": "markdown",
   "id": "c46814b3",
   "metadata": {},
   "source": [
    "Это набор данных по диабету. вы можете использовать этот набор данных для прогнозирования. в этом наборе данных есть много параметров, таких как Беременность, Уровень глюкозы, кровяное давление, Состояние кожи, инсулин, ИМТ, родословная диабета, Возраст, Результат."
   ]
  },
  {
   "cell_type": "markdown",
   "id": "65b4aa05",
   "metadata": {},
   "source": [
    "Размерность данных"
   ]
  },
  {
   "cell_type": "code",
   "execution_count": 4,
   "id": "3249f277",
   "metadata": {},
   "outputs": [
    {
     "data": {
      "text/plain": [
       "(768, 9)"
      ]
     },
     "execution_count": 4,
     "metadata": {},
     "output_type": "execute_result"
    }
   ],
   "source": [
    "df.shape"
   ]
  },
  {
   "cell_type": "markdown",
   "id": "aac07929",
   "metadata": {},
   "source": [
    "Посмотрим информацию по датасету"
   ]
  },
  {
   "cell_type": "code",
   "execution_count": 5,
   "id": "c46a82ad",
   "metadata": {},
   "outputs": [
    {
     "name": "stdout",
     "output_type": "stream",
     "text": [
      "<class 'pandas.core.frame.DataFrame'>\n",
      "RangeIndex: 768 entries, 0 to 767\n",
      "Data columns (total 9 columns):\n",
      " #   Column                    Non-Null Count  Dtype  \n",
      "---  ------                    --------------  -----  \n",
      " 0   Pregnancies               768 non-null    int64  \n",
      " 1   Glucose                   768 non-null    int64  \n",
      " 2   BloodPressure             768 non-null    int64  \n",
      " 3   SkinThickness             768 non-null    int64  \n",
      " 4   Insulin                   768 non-null    int64  \n",
      " 5   BMI                       768 non-null    float64\n",
      " 6   DiabetesPedigreeFunction  768 non-null    float64\n",
      " 7   Age                       768 non-null    int64  \n",
      " 8   Outcome                   768 non-null    object \n",
      "dtypes: float64(2), int64(6), object(1)\n",
      "memory usage: 54.1+ KB\n"
     ]
    }
   ],
   "source": [
    "df.info()"
   ]
  },
  {
   "cell_type": "markdown",
   "id": "e508bc92",
   "metadata": {},
   "source": [
    "Видим, что пропущенных значений нет"
   ]
  },
  {
   "cell_type": "markdown",
   "id": "ceb8a968",
   "metadata": {},
   "source": [
    "Визуализируем колонку Age, интересно посмотреть, какое распределение по возрасту в данном наборе данных"
   ]
  },
  {
   "cell_type": "code",
   "execution_count": 6,
   "id": "26e16e87",
   "metadata": {
    "scrolled": false
   },
   "outputs": [
    {
     "data": {
      "image/png": "[encoded data removed]",
      "text/plain": [
       "<Figure size 1800x720 with 1 Axes>"
      ]
     },
     "metadata": {
      "needs_background": "light"
     },
     "output_type": "display_data"
    }
   ],
   "source": [
    "fig, ax = plt.subplots(figsize=(25, 10))\n",
    "sns.countplot(df[\"Age\"], palette=\"RdGy\")\n",
    "ax.set(title=\"Соотношение возрастов\")\n",
    "plt.show()"
   ]
  },
  {
   "cell_type": "markdown",
   "id": "9e39c4fb",
   "metadata": {},
   "source": [
    "Видим, что большая часть людей - это молодые люди в возрасте 21-22 года"
   ]
  },
  {
   "cell_type": "markdown",
   "id": "faf86671",
   "metadata": {},
   "source": [
    "Для вашего датасета преобразовать категориальные признаки в бинарные с помощью pd.factorize / pd.get_dummies"
   ]
  },
  {
   "cell_type": "code",
   "execution_count": 7,
   "id": "f689cceb",
   "metadata": {},
   "outputs": [],
   "source": [
    "codes, uniques = pd.factorize(df[\"Outcome\"])\n",
    "df[\"Outcome\"] = codes"
   ]
  },
  {
   "cell_type": "code",
   "execution_count": 8,
   "id": "ee440a8d",
   "metadata": {},
   "outputs": [
    {
     "data": {
      "text/html": [
       "<div>\n",
       "<style scoped>\n",
       "    .dataframe tbody tr th:only-of-type {\n",
       "        vertical-align: middle;\n",
       "    }\n",
       "\n",
       "    .dataframe tbody tr th {\n",
       "        vertical-align: top;\n",
       "    }\n",
       "\n",
       "    .dataframe thead th {\n",
       "        text-align: right;\n",
       "    }\n",
       "</style>\n",
       "<table border=\"1\" class=\"dataframe\">\n",
       "  <thead>\n",
       "    <tr style=\"text-align: right;\">\n",
       "      <th></th>\n",
       "      <th>Pregnancies</th>\n",
       "      <th>Glucose</th>\n",
       "      <th>BloodPressure</th>\n",
       "      <th>SkinThickness</th>\n",
       "      <th>Insulin</th>\n",
       "      <th>BMI</th>\n",
       "      <th>DiabetesPedigreeFunction</th>\n",
       "      <th>Age</th>\n",
       "      <th>Outcome</th>\n",
       "    </tr>\n",
       "  </thead>\n",
       "  <tbody>\n",
       "    <tr>\n",
       "      <th>0</th>\n",
       "      <td>6</td>\n",
       "      <td>148</td>\n",
       "      <td>72</td>\n",
       "      <td>35</td>\n",
       "      <td>0</td>\n",
       "      <td>33.6</td>\n",
       "      <td>0.627</td>\n",
       "      <td>50</td>\n",
       "      <td>0</td>\n",
       "    </tr>\n",
       "    <tr>\n",
       "      <th>1</th>\n",
       "      <td>1</td>\n",
       "      <td>85</td>\n",
       "      <td>66</td>\n",
       "      <td>29</td>\n",
       "      <td>0</td>\n",
       "      <td>26.6</td>\n",
       "      <td>0.351</td>\n",
       "      <td>31</td>\n",
       "      <td>1</td>\n",
       "    </tr>\n",
       "    <tr>\n",
       "      <th>2</th>\n",
       "      <td>8</td>\n",
       "      <td>183</td>\n",
       "      <td>64</td>\n",
       "      <td>0</td>\n",
       "      <td>0</td>\n",
       "      <td>23.3</td>\n",
       "      <td>0.672</td>\n",
       "      <td>32</td>\n",
       "      <td>0</td>\n",
       "    </tr>\n",
       "    <tr>\n",
       "      <th>3</th>\n",
       "      <td>1</td>\n",
       "      <td>89</td>\n",
       "      <td>66</td>\n",
       "      <td>23</td>\n",
       "      <td>94</td>\n",
       "      <td>28.1</td>\n",
       "      <td>0.167</td>\n",
       "      <td>21</td>\n",
       "      <td>1</td>\n",
       "    </tr>\n",
       "    <tr>\n",
       "      <th>4</th>\n",
       "      <td>0</td>\n",
       "      <td>137</td>\n",
       "      <td>40</td>\n",
       "      <td>35</td>\n",
       "      <td>168</td>\n",
       "      <td>43.1</td>\n",
       "      <td>2.288</td>\n",
       "      <td>33</td>\n",
       "      <td>0</td>\n",
       "    </tr>\n",
       "    <tr>\n",
       "      <th>5</th>\n",
       "      <td>5</td>\n",
       "      <td>116</td>\n",
       "      <td>74</td>\n",
       "      <td>0</td>\n",
       "      <td>0</td>\n",
       "      <td>25.6</td>\n",
       "      <td>0.201</td>\n",
       "      <td>30</td>\n",
       "      <td>1</td>\n",
       "    </tr>\n",
       "    <tr>\n",
       "      <th>6</th>\n",
       "      <td>3</td>\n",
       "      <td>78</td>\n",
       "      <td>50</td>\n",
       "      <td>32</td>\n",
       "      <td>88</td>\n",
       "      <td>31.0</td>\n",
       "      <td>0.248</td>\n",
       "      <td>26</td>\n",
       "      <td>0</td>\n",
       "    </tr>\n",
       "    <tr>\n",
       "      <th>7</th>\n",
       "      <td>10</td>\n",
       "      <td>115</td>\n",
       "      <td>0</td>\n",
       "      <td>0</td>\n",
       "      <td>0</td>\n",
       "      <td>35.3</td>\n",
       "      <td>0.134</td>\n",
       "      <td>29</td>\n",
       "      <td>1</td>\n",
       "    </tr>\n",
       "    <tr>\n",
       "      <th>8</th>\n",
       "      <td>2</td>\n",
       "      <td>197</td>\n",
       "      <td>70</td>\n",
       "      <td>45</td>\n",
       "      <td>543</td>\n",
       "      <td>30.5</td>\n",
       "      <td>0.158</td>\n",
       "      <td>53</td>\n",
       "      <td>0</td>\n",
       "    </tr>\n",
       "    <tr>\n",
       "      <th>9</th>\n",
       "      <td>8</td>\n",
       "      <td>125</td>\n",
       "      <td>96</td>\n",
       "      <td>0</td>\n",
       "      <td>0</td>\n",
       "      <td>0.0</td>\n",
       "      <td>0.232</td>\n",
       "      <td>54</td>\n",
       "      <td>0</td>\n",
       "    </tr>\n",
       "  </tbody>\n",
       "</table>\n",
       "</div>"
      ],
      "text/plain": [
       "   Pregnancies  Glucose  BloodPressure  SkinThickness  Insulin   BMI  \\\n",
       "0            6      148             72             35        0  33.6   \n",
       "1            1       85             66             29        0  26.6   \n",
       "2            8      183             64              0        0  23.3   \n",
       "3            1       89             66             23       94  28.1   \n",
       "4            0      137             40             35      168  43.1   \n",
       "5            5      116             74              0        0  25.6   \n",
       "6            3       78             50             32       88  31.0   \n",
       "7           10      115              0              0        0  35.3   \n",
       "8            2      197             70             45      543  30.5   \n",
       "9            8      125             96              0        0   0.0   \n",
       "\n",
       "   DiabetesPedigreeFunction  Age  Outcome  \n",
       "0                     0.627   50        0  \n",
       "1                     0.351   31        1  \n",
       "2                     0.672   32        0  \n",
       "3                     0.167   21        1  \n",
       "4                     2.288   33        0  \n",
       "5                     0.201   30        1  \n",
       "6                     0.248   26        0  \n",
       "7                     0.134   29        1  \n",
       "8                     0.158   53        0  \n",
       "9                     0.232   54        0  "
      ]
     },
     "execution_count": 8,
     "metadata": {},
     "output_type": "execute_result"
    }
   ],
   "source": [
    "df.head(10)"
   ]
  },
  {
   "cell_type": "code",
   "execution_count": 9,
   "id": "82a32969",
   "metadata": {},
   "outputs": [],
   "source": [
    "X = df.drop(\"Outcome\", axis=1) \n",
    "y = df[\"Outcome\"]"
   ]
  },
  {
   "cell_type": "code",
   "execution_count": 10,
   "id": "4b771cf8",
   "metadata": {},
   "outputs": [],
   "source": [
    "X_train, X_test, y_train, y_test = train_test_split(X, y, test_size=.35, random_state=7)"
   ]
  },
  {
   "cell_type": "markdown",
   "id": "b934e7f7",
   "metadata": {},
   "source": [
    "1.1 С помощью sklearn.preprocessing.StandardScaler нормализовать значения признаков и построить для нормализованного датасета KNeighborsClassifier (без использования конвееров)"
   ]
  },
  {
   "cell_type": "code",
   "execution_count": 11,
   "id": "0066dc11",
   "metadata": {},
   "outputs": [],
   "source": [
    "Scaler = MinMaxScaler()\n",
    "X_scaler = Scaler.fit_transform(X)"
   ]
  },
  {
   "cell_type": "code",
   "execution_count": 12,
   "id": "662eba01",
   "metadata": {},
   "outputs": [],
   "source": [
    "X_knn_train, X_knn_test, y_knn_train, y_knn_test = train_test_split(X_scaler, y, test_size=0.25)"
   ]
  },
  {
   "cell_type": "code",
   "execution_count": 13,
   "id": "20806fa3",
   "metadata": {},
   "outputs": [
    {
     "name": "stdout",
     "output_type": "stream",
     "text": [
      "              precision    recall  f1-score   support\n",
      "\n",
      "           0       0.35      0.98      0.52        95\n",
      "           1       0.60      0.02      0.03       174\n",
      "\n",
      "    accuracy                           0.36       269\n",
      "   macro avg       0.48      0.50      0.28       269\n",
      "weighted avg       0.51      0.36      0.20       269\n",
      "\n",
      "35.687732342007436\n"
     ]
    }
   ],
   "source": [
    "KNeighbors = KNeighborsClassifier()\n",
    "KNeighbors.fit(X_knn_train, y_knn_train)\n",
    "KNeighborsPredict = KNeighbors.predict(X_test)\n",
    "print(classification_report(y_test, KNeighborsPredict))\n",
    "print(accuracy_score(y_test, KNeighborsPredict) * 100)"
   ]
  },
  {
   "cell_type": "markdown",
   "id": "62f407e9",
   "metadata": {},
   "source": [
    "1.2 То же самое и использованием sklearn.pipeline.Pipeline"
   ]
  },
  {
   "cell_type": "code",
   "execution_count": 14,
   "id": "673dc8e4",
   "metadata": {},
   "outputs": [
    {
     "name": "stdout",
     "output_type": "stream",
     "text": [
      "              precision    recall  f1-score   support\n",
      "\n",
      "           0       0.58      0.55      0.56        95\n",
      "           1       0.76      0.78      0.77       174\n",
      "\n",
      "    accuracy                           0.70       269\n",
      "   macro avg       0.67      0.66      0.67       269\n",
      "weighted avg       0.70      0.70      0.70       269\n",
      "\n",
      "69.88847583643123\n"
     ]
    }
   ],
   "source": [
    "KNeighborsPipe = Pipeline([('Scaler', MinMaxScaler()), ('kNN', KNeighborsClassifier())])\n",
    "KNeighborsPipe.fit(X_train, y_train)\n",
    "KNeighborsPredictPipe = KNeighborsPipe.predict(X_test)\n",
    "print(classification_report(y_test, KNeighborsPredictPipe))\n",
    "print(accuracy_score(y_test, KNeighborsPredictPipe) * 100)"
   ]
  },
  {
   "cell_type": "markdown",
   "id": "cf7095f5",
   "metadata": {},
   "source": [
    "1.3 С помощью GridSearchCV произвести подбор гиперпараметра KNeighborsClassifier (n_neighbors) и выведите значение гиперпараметра и метрику для наилучшей модели"
   ]
  },
  {
   "cell_type": "code",
   "execution_count": 15,
   "id": "5f4a77bf",
   "metadata": {},
   "outputs": [
    {
     "name": "stdout",
     "output_type": "stream",
     "text": [
      "              precision    recall  f1-score   support\n",
      "\n",
      "           0       0.35      1.00      0.52        95\n",
      "           1       0.00      0.00      0.00       174\n",
      "\n",
      "    accuracy                           0.35       269\n",
      "   macro avg       0.18      0.50      0.26       269\n",
      "weighted avg       0.12      0.35      0.18       269\n",
      "\n",
      "35.31598513011153\n"
     ]
    }
   ],
   "source": [
    "KNeighborsParams = {'n_neighbors': range(1, 35)}\n",
    "KNeighborsGCV = GridSearchCV(KNeighborsClassifier(), KNeighborsParams, scoring=\"roc_auc\")\n",
    "KNeighborsGCV.fit(X_knn_train, y_knn_train)\n",
    "KNeighborsPredictGCV = KNeighborsGCV.predict(X_test)\n",
    "print(classification_report(y_test, KNeighborsPredictGCV))\n",
    "print(accuracy_score(y_test, KNeighborsPredictGCV) * 100)"
   ]
  },
  {
   "cell_type": "code",
   "execution_count": 16,
   "id": "79d25411",
   "metadata": {},
   "outputs": [
    {
     "data": {
      "text/plain": [
       "KNeighborsClassifier(n_neighbors=33)"
      ]
     },
     "execution_count": 16,
     "metadata": {},
     "output_type": "execute_result"
    }
   ],
   "source": [
    "KNeighborsGCV.best_estimator_"
   ]
  },
  {
   "cell_type": "markdown",
   "id": "e52710a7",
   "metadata": {},
   "source": [
    "2.1 Продемонстрировать работу DecisionTreeClassifier, посчитать метрики качества на отложенной выборке"
   ]
  },
  {
   "cell_type": "code",
   "execution_count": 17,
   "id": "426393bb",
   "metadata": {},
   "outputs": [
    {
     "name": "stdout",
     "output_type": "stream",
     "text": [
      "              precision    recall  f1-score   support\n",
      "\n",
      "           0       0.56      0.58      0.57        95\n",
      "           1       0.77      0.75      0.76       174\n",
      "\n",
      "    accuracy                           0.69       269\n",
      "   macro avg       0.66      0.67      0.66       269\n",
      "weighted avg       0.69      0.69      0.69       269\n",
      "\n",
      "69.14498141263941\n"
     ]
    }
   ],
   "source": [
    "DTC = DecisionTreeClassifier()\n",
    "DTC.fit(X_train, y_train)\n",
    "DTCPredict = DTC.predict(X_test)\n",
    "print(classification_report(y_test, DTCPredict))\n",
    "print(accuracy_score(y_test, DTCPredict) * 100)"
   ]
  },
  {
   "cell_type": "markdown",
   "id": "08d5b7d0",
   "metadata": {},
   "source": [
    "2.2 С помощью GridSearchCV произвести подбор гиперпараметров для поиска наилучшего дерева (перебрать max_depth, max_features и может быть что-то ещё)"
   ]
  },
  {
   "cell_type": "code",
   "execution_count": 18,
   "id": "2bb446c2",
   "metadata": {},
   "outputs": [
    {
     "name": "stdout",
     "output_type": "stream",
     "text": [
      "DecisionTreeClassifier(max_depth=2.0, min_samples_leaf=0.06000000000000001,\n",
      "                       min_samples_split=0.01)\n",
      "              precision    recall  f1-score   support\n",
      "\n",
      "           0       0.68      0.57      0.62        95\n",
      "           1       0.78      0.85      0.82       174\n",
      "\n",
      "    accuracy                           0.75       269\n",
      "   macro avg       0.73      0.71      0.72       269\n",
      "weighted avg       0.74      0.75      0.75       269\n",
      "\n",
      "75.09293680297398\n"
     ]
    }
   ],
   "source": [
    "parametrs = {\n",
    "    \"max_depth\": np.linspace(1, 32, 32, endpoint=True),\n",
    "    \"min_samples_split\": np.linspace(0.01, 0.1, 10, endpoint=True),\n",
    "    \"min_samples_leaf\": np.linspace(0.01, 0.1, 10, endpoint=True),\n",
    "}\n",
    "\n",
    "DTC_GCV = GridSearchCV(DecisionTreeClassifier(), parametrs)\n",
    "DTC_GCV.fit(X_train, y_train)\n",
    "print(DTC_GCV.best_estimator_)\n",
    "DTC_GCV_Predict = DTC_GCV.predict(X_test)\n",
    "print(classification_report(y_test, DTC_GCV_Predict))\n",
    "print(accuracy_score(y_test, DTC_GCV_Predict) * 100)"
   ]
  },
  {
   "cell_type": "markdown",
   "id": "5f609950",
   "metadata": {},
   "source": [
    "2.3 Для полученного наилучшего дерева построить график feature_importances и дополнительно напечатать 3 наиболее важных признака, отсортировав их по убыванию важности"
   ]
  },
  {
   "cell_type": "code",
   "execution_count": 19,
   "id": "f6bd53b3",
   "metadata": {},
   "outputs": [
    {
     "name": "stdout",
     "output_type": "stream",
     "text": [
      "   feature  importance\n",
      "1  Glucose    0.645165\n",
      "5      BMI    0.193728\n",
      "7      Age    0.161107\n"
     ]
    },
    {
     "data": {
      "text/plain": [
       "<AxesSubplot:xlabel='importance', ylabel='feature'>"
      ]
     },
     "execution_count": 19,
     "metadata": {},
     "output_type": "execute_result"
    },
    {
     "data": {
      "image/png": "[encoded data removed]",
      "text/plain": [
       "<Figure size 432x288 with 1 Axes>"
      ]
     },
     "metadata": {
      "needs_background": "light"
     },
     "output_type": "display_data"
    }
   ],
   "source": [
    "features_importance_df = pd.DataFrame(data={\"feature\": X_train.columns, 'importance': DTC_GCV.best_estimator_.feature_importances_})\n",
    "print(features_importance_df.sort_values(by=\"importance\", ascending=False).head(3))\n",
    "sns.barplot(data=features_importance_df[features_importance_df['importance'] > 0], y=\"feature\", x=\"importance\")"
   ]
  },
  {
   "cell_type": "markdown",
   "id": "718bf638",
   "metadata": {},
   "source": [
    "3.1 Продемонстрировать работу случайного леса RandomForestClassifier"
   ]
  },
  {
   "cell_type": "code",
   "execution_count": 20,
   "id": "9deb3b77",
   "metadata": {},
   "outputs": [
    {
     "name": "stdout",
     "output_type": "stream",
     "text": [
      "              precision    recall  f1-score   support\n",
      "\n",
      "           0       0.66      0.63      0.65        95\n",
      "           1       0.80      0.82      0.81       174\n",
      "\n",
      "    accuracy                           0.75       269\n",
      "   macro avg       0.73      0.73      0.73       269\n",
      "weighted avg       0.75      0.75      0.75       269\n",
      "\n",
      "75.46468401486989\n"
     ]
    }
   ],
   "source": [
    "RF = RandomForestClassifier()\n",
    "RF.fit(X_train, y_train)\n",
    "RF_Predict = RF.predict(X_test)\n",
    "print(classification_report(y_test, RF_Predict))\n",
    "print(accuracy_score(y_test, RF_Predict) * 100)"
   ]
  },
  {
   "cell_type": "markdown",
   "id": "1971e06c",
   "metadata": {},
   "source": [
    "3.2 С помощью GridSearchCV произвести подбор гиперпараметров для поиск наилучшего леса, посмотреть насколько улучшились метрики"
   ]
  },
  {
   "cell_type": "code",
   "execution_count": 21,
   "id": "1cacfd80",
   "metadata": {},
   "outputs": [
    {
     "name": "stdout",
     "output_type": "stream",
     "text": [
      "RandomForestClassifier(n_estimators=44)\n",
      "              precision    recall  f1-score   support\n",
      "\n",
      "           0       0.67      0.65      0.66        95\n",
      "           1       0.81      0.83      0.82       174\n",
      "\n",
      "    accuracy                           0.77       269\n",
      "   macro avg       0.74      0.74      0.74       269\n",
      "weighted avg       0.76      0.77      0.76       269\n",
      "\n",
      "76.57992565055763\n"
     ]
    }
   ],
   "source": [
    "parametrs = {\"n_estimators\": range(1, 65)}\n",
    "\n",
    "RF_GCV = GridSearchCV(RandomForestClassifier(), parametrs)\n",
    "RF_GCV.fit(X_train, y_train)\n",
    "print(RF_GCV.best_estimator_)\n",
    "RF_GCV_Predict = RF_GCV.predict(X_test)\n",
    "print(classification_report(y_test, RF_GCV_Predict))\n",
    "print(accuracy_score(y_test, RF_GCV_Predict) * 100)"
   ]
  },
  {
   "cell_type": "code",
   "execution_count": 22,
   "id": "8cac0694",
   "metadata": {},
   "outputs": [
    {
     "name": "stdout",
     "output_type": "stream",
     "text": [
      "                    feature  importance\n",
      "1                   Glucose    0.255752\n",
      "5                       BMI    0.158248\n",
      "6  DiabetesPedigreeFunction    0.136352\n"
     ]
    },
    {
     "data": {
      "text/plain": [
       "<AxesSubplot:xlabel='importance', ylabel='feature'>"
      ]
     },
     "execution_count": 22,
     "metadata": {},
     "output_type": "execute_result"
    },
    {
     "data": {
      "image/png": "[encoded data removed]",
      "text/plain": [
       "<Figure size 432x288 with 1 Axes>"
      ]
     },
     "metadata": {
      "needs_background": "light"
     },
     "output_type": "display_data"
    }
   ],
   "source": [
    "features_df = pd.DataFrame(data={\"feature\": X_train.columns, 'importance': RF_GCV.best_estimator_.feature_importances_})\n",
    "print(features_df.sort_values(by=\"importance\", ascending=False).head(3))\n",
    "sns.barplot(data=features_df[features_importance_df['importance'] > 0], y=\"feature\", x=\"importance\")"
   ]
  }
 ],
 "metadata": {
  "kernelspec": {
   "display_name": "Python 3 (ipykernel)",
   "language": "python",
   "name": "python3"
  },
  "language_info": {
   "codemirror_mode": {
    "name": "ipython",
    "version": 3
   },
   "file_extension": ".py",
   "mimetype": "text/x-python",
   "name": "python",
   "nbconvert_exporter": "python",
   "pygments_lexer": "ipython3",
   "version": "3.9.10"
  }
 },
 "nbformat": 4,
 "nbformat_minor": 5
}
