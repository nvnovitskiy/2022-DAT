{
 "cells": [
  {
   "cell_type": "markdown",
   "id": "3b9eaec2",
   "metadata": {},
   "source": [
    "# Лабораторная работа 8\n",
    "\n",
    "Кластеризация\n",
    "\n",
    "Выполнил: Новицкий Никита (6132-010402D)"
   ]
  },
  {
   "cell_type": "code",
   "execution_count": 1,
   "id": "84b7109a",
   "metadata": {},
   "outputs": [],
   "source": [
    "import pandas as pd\n",
    "import numpy as np\n",
    "import matplotlib.pyplot as plt\n",
    "\n",
    "from sklearn.model_selection import GridSearchCV\n",
    "from sklearn.preprocessing import MinMaxScaler\n",
    "from sklearn.metrics import homogeneity_score, silhouette_score\n",
    "from sklearn.cluster import KMeans\n",
    "from scipy.cluster.hierarchy import linkage, dendrogram\n",
    "from tqdm.notebook import tqdm"
   ]
  },
  {
   "cell_type": "markdown",
   "id": "bf94d994",
   "metadata": {},
   "source": [
    "Найти датасет для кластеризации: для этого берём датасет для мультиклассовой классификации и временно убираем метки классов. Эти метки классов пригодятся нам для оценки качества кластеризации. Хотя в реальной жизни такой роскоши скорее всего не будет, однако наличие априорного знания о кластерах позволит нам посчитать несколько дополнительных метрик. Опишите данные, что обозначает каждый столбец, какого типа (категориальный, вещественный, целочисленный, бинарный) данный столбец, при необходимости для категориальных в том числе бинарных признаков привести расшифровку их значений.\n",
    "\n",
    "Набор данных: https://www.kaggle.com/datasets/deepu1109/star-dataset "
   ]
  },
  {
   "cell_type": "markdown",
   "id": "b68d2cf3",
   "metadata": {},
   "source": [
    "# Информация о наборе данных:\n",
    "\n",
    "Это набор данных, состоящий из нескольких характеристик звезд.\n",
    "\n",
    "Некоторые из них являются:\n",
    "\n",
    "Абсолютная температура (в К)\n",
    "\n",
    "Относительная яркость (L/Lo)\n",
    "\n",
    "Относительный радиус (R/Ro)\n",
    "\n",
    "Абсолютная величина (Мв)\n",
    "\n",
    "Цвет звезды (белый, красный, Синий, желтый, желто-оранжевый и т.д.)\n",
    "\n",
    "Спектральный класс (O, B, A, F, G, K,,M)\n",
    "\n",
    "Тип Звезды ** (Красный Карлик, Коричневый Карлик, Белый Карлик, Главная последовательность, Сверхгиганты, Гипергиганты)**\n",
    "\n",
    "Lo = 3,828 x 10^26 Вт (Средняя яркость Солнца)\n",
    "\n",
    "Ro = 6,9551 x 10^8 м (Средний радиус Солнца)"
   ]
  },
  {
   "cell_type": "code",
   "execution_count": 2,
   "id": "48e558e8",
   "metadata": {},
   "outputs": [],
   "source": [
    "df = pd.read_csv(\"data.csv\")"
   ]
  },
  {
   "cell_type": "code",
   "execution_count": 3,
   "id": "8c2b7810",
   "metadata": {},
   "outputs": [
    {
     "data": {
      "text/html": [
       "<div>\n",
       "<style scoped>\n",
       "    .dataframe tbody tr th:only-of-type {\n",
       "        vertical-align: middle;\n",
       "    }\n",
       "\n",
       "    .dataframe tbody tr th {\n",
       "        vertical-align: top;\n",
       "    }\n",
       "\n",
       "    .dataframe thead th {\n",
       "        text-align: right;\n",
       "    }\n",
       "</style>\n",
       "<table border=\"1\" class=\"dataframe\">\n",
       "  <thead>\n",
       "    <tr style=\"text-align: right;\">\n",
       "      <th></th>\n",
       "      <th>Temperature (K)</th>\n",
       "      <th>Luminosity(L/Lo)</th>\n",
       "      <th>Radius(R/Ro)</th>\n",
       "      <th>Absolute magnitude(Mv)</th>\n",
       "      <th>Star type</th>\n",
       "      <th>Star color</th>\n",
       "      <th>Spectral Class</th>\n",
       "    </tr>\n",
       "  </thead>\n",
       "  <tbody>\n",
       "    <tr>\n",
       "      <th>215</th>\n",
       "      <td>32460</td>\n",
       "      <td>173800.0000</td>\n",
       "      <td>6.237</td>\n",
       "      <td>-4.360</td>\n",
       "      <td>3</td>\n",
       "      <td>Blue</td>\n",
       "      <td>O</td>\n",
       "    </tr>\n",
       "    <tr>\n",
       "      <th>47</th>\n",
       "      <td>3574</td>\n",
       "      <td>200000.0000</td>\n",
       "      <td>89.000</td>\n",
       "      <td>-5.240</td>\n",
       "      <td>4</td>\n",
       "      <td>Red</td>\n",
       "      <td>M</td>\n",
       "    </tr>\n",
       "    <tr>\n",
       "      <th>199</th>\n",
       "      <td>3463</td>\n",
       "      <td>0.0027</td>\n",
       "      <td>0.675</td>\n",
       "      <td>14.776</td>\n",
       "      <td>1</td>\n",
       "      <td>Red</td>\n",
       "      <td>M</td>\n",
       "    </tr>\n",
       "    <tr>\n",
       "      <th>223</th>\n",
       "      <td>23440</td>\n",
       "      <td>537430.0000</td>\n",
       "      <td>81.000</td>\n",
       "      <td>-5.975</td>\n",
       "      <td>4</td>\n",
       "      <td>Blue</td>\n",
       "      <td>O</td>\n",
       "    </tr>\n",
       "    <tr>\n",
       "      <th>150</th>\n",
       "      <td>29560</td>\n",
       "      <td>188000.0000</td>\n",
       "      <td>6.020</td>\n",
       "      <td>-4.010</td>\n",
       "      <td>3</td>\n",
       "      <td>Blue-white</td>\n",
       "      <td>B</td>\n",
       "    </tr>\n",
       "  </tbody>\n",
       "</table>\n",
       "</div>"
      ],
      "text/plain": [
       "     Temperature (K)  Luminosity(L/Lo)  Radius(R/Ro)  Absolute magnitude(Mv)  \\\n",
       "215            32460       173800.0000         6.237                  -4.360   \n",
       "47              3574       200000.0000        89.000                  -5.240   \n",
       "199             3463            0.0027         0.675                  14.776   \n",
       "223            23440       537430.0000        81.000                  -5.975   \n",
       "150            29560       188000.0000         6.020                  -4.010   \n",
       "\n",
       "     Star type  Star color Spectral Class  \n",
       "215          3        Blue              O  \n",
       "47           4         Red              M  \n",
       "199          1         Red              M  \n",
       "223          4        Blue              O  \n",
       "150          3  Blue-white              B  "
      ]
     },
     "execution_count": 3,
     "metadata": {},
     "output_type": "execute_result"
    }
   ],
   "source": [
    "df.sample(5)"
   ]
  },
  {
   "cell_type": "code",
   "execution_count": 4,
   "id": "b7ecba6e",
   "metadata": {},
   "outputs": [
    {
     "data": {
      "text/html": [
       "<div>\n",
       "<style scoped>\n",
       "    .dataframe tbody tr th:only-of-type {\n",
       "        vertical-align: middle;\n",
       "    }\n",
       "\n",
       "    .dataframe tbody tr th {\n",
       "        vertical-align: top;\n",
       "    }\n",
       "\n",
       "    .dataframe thead th {\n",
       "        text-align: right;\n",
       "    }\n",
       "</style>\n",
       "<table border=\"1\" class=\"dataframe\">\n",
       "  <thead>\n",
       "    <tr style=\"text-align: right;\">\n",
       "      <th></th>\n",
       "      <th>Temperature (K)</th>\n",
       "      <th>Luminosity(L/Lo)</th>\n",
       "      <th>Radius(R/Ro)</th>\n",
       "      <th>Absolute magnitude(Mv)</th>\n",
       "      <th>Star type</th>\n",
       "    </tr>\n",
       "  </thead>\n",
       "  <tbody>\n",
       "    <tr>\n",
       "      <th>count</th>\n",
       "      <td>240.000000</td>\n",
       "      <td>240.000000</td>\n",
       "      <td>240.000000</td>\n",
       "      <td>240.000000</td>\n",
       "      <td>240.000000</td>\n",
       "    </tr>\n",
       "    <tr>\n",
       "      <th>mean</th>\n",
       "      <td>10497.462500</td>\n",
       "      <td>107188.361635</td>\n",
       "      <td>237.157781</td>\n",
       "      <td>4.382396</td>\n",
       "      <td>2.500000</td>\n",
       "    </tr>\n",
       "    <tr>\n",
       "      <th>std</th>\n",
       "      <td>9552.425037</td>\n",
       "      <td>179432.244940</td>\n",
       "      <td>517.155763</td>\n",
       "      <td>10.532512</td>\n",
       "      <td>1.711394</td>\n",
       "    </tr>\n",
       "    <tr>\n",
       "      <th>min</th>\n",
       "      <td>1939.000000</td>\n",
       "      <td>0.000080</td>\n",
       "      <td>0.008400</td>\n",
       "      <td>-11.920000</td>\n",
       "      <td>0.000000</td>\n",
       "    </tr>\n",
       "    <tr>\n",
       "      <th>25%</th>\n",
       "      <td>3344.250000</td>\n",
       "      <td>0.000865</td>\n",
       "      <td>0.102750</td>\n",
       "      <td>-6.232500</td>\n",
       "      <td>1.000000</td>\n",
       "    </tr>\n",
       "    <tr>\n",
       "      <th>50%</th>\n",
       "      <td>5776.000000</td>\n",
       "      <td>0.070500</td>\n",
       "      <td>0.762500</td>\n",
       "      <td>8.313000</td>\n",
       "      <td>2.500000</td>\n",
       "    </tr>\n",
       "    <tr>\n",
       "      <th>75%</th>\n",
       "      <td>15055.500000</td>\n",
       "      <td>198050.000000</td>\n",
       "      <td>42.750000</td>\n",
       "      <td>13.697500</td>\n",
       "      <td>4.000000</td>\n",
       "    </tr>\n",
       "    <tr>\n",
       "      <th>max</th>\n",
       "      <td>40000.000000</td>\n",
       "      <td>849420.000000</td>\n",
       "      <td>1948.500000</td>\n",
       "      <td>20.060000</td>\n",
       "      <td>5.000000</td>\n",
       "    </tr>\n",
       "  </tbody>\n",
       "</table>\n",
       "</div>"
      ],
      "text/plain": [
       "       Temperature (K)  Luminosity(L/Lo)  Radius(R/Ro)  \\\n",
       "count       240.000000        240.000000    240.000000   \n",
       "mean      10497.462500     107188.361635    237.157781   \n",
       "std        9552.425037     179432.244940    517.155763   \n",
       "min        1939.000000          0.000080      0.008400   \n",
       "25%        3344.250000          0.000865      0.102750   \n",
       "50%        5776.000000          0.070500      0.762500   \n",
       "75%       15055.500000     198050.000000     42.750000   \n",
       "max       40000.000000     849420.000000   1948.500000   \n",
       "\n",
       "       Absolute magnitude(Mv)   Star type  \n",
       "count              240.000000  240.000000  \n",
       "mean                 4.382396    2.500000  \n",
       "std                 10.532512    1.711394  \n",
       "min                -11.920000    0.000000  \n",
       "25%                 -6.232500    1.000000  \n",
       "50%                  8.313000    2.500000  \n",
       "75%                 13.697500    4.000000  \n",
       "max                 20.060000    5.000000  "
      ]
     },
     "execution_count": 4,
     "metadata": {},
     "output_type": "execute_result"
    }
   ],
   "source": [
    "df.describe()"
   ]
  },
  {
   "cell_type": "code",
   "execution_count": 5,
   "id": "078f0d4c",
   "metadata": {},
   "outputs": [],
   "source": [
    "df[\"Star color\"], _ = pd.factorize(df[\"Star color\"])\n",
    "df[\"Spectral Class\"], _ = pd.factorize(df[\"Spectral Class\"])"
   ]
  },
  {
   "cell_type": "code",
   "execution_count": 6,
   "id": "21d12755",
   "metadata": {},
   "outputs": [
    {
     "name": "stdout",
     "output_type": "stream",
     "text": [
      "<class 'pandas.core.frame.DataFrame'>\n",
      "RangeIndex: 240 entries, 0 to 239\n",
      "Data columns (total 7 columns):\n",
      " #   Column                  Non-Null Count  Dtype  \n",
      "---  ------                  --------------  -----  \n",
      " 0   Temperature (K)         240 non-null    int64  \n",
      " 1   Luminosity(L/Lo)        240 non-null    float64\n",
      " 2   Radius(R/Ro)            240 non-null    float64\n",
      " 3   Absolute magnitude(Mv)  240 non-null    float64\n",
      " 4   Star type               240 non-null    int64  \n",
      " 5   Star color              240 non-null    int64  \n",
      " 6   Spectral Class          240 non-null    int64  \n",
      "dtypes: float64(3), int64(4)\n",
      "memory usage: 13.2 KB\n"
     ]
    }
   ],
   "source": [
    "df.info()"
   ]
  },
  {
   "cell_type": "markdown",
   "id": "a6dc7c68",
   "metadata": {},
   "source": [
    "Выполните иерархическую агломеративную кластеризацию (scipy.cluster.hierarchy), постройте график-дендрограмму (hierarchy.dendrogram)"
   ]
  },
  {
   "cell_type": "code",
   "execution_count": 7,
   "id": "8832f3e0",
   "metadata": {},
   "outputs": [],
   "source": [
    "X, y = df.drop(\"Star type\", axis=1), df[\"Star type\"]"
   ]
  },
  {
   "cell_type": "code",
   "execution_count": 8,
   "id": "a2693f1f",
   "metadata": {},
   "outputs": [],
   "source": [
    "hierarchy = linkage(X, metric=\"euclidean\")"
   ]
  },
  {
   "cell_type": "code",
   "execution_count": 9,
   "id": "f6990fa8",
   "metadata": {},
   "outputs": [
    {
     "data": {
      "image/png": "[encoded data removed]",
      "text/plain": [
       "<Figure size 1080x720 with 1 Axes>"
      ]
     },
     "metadata": {
      "needs_background": "light"
     },
     "output_type": "display_data"
    }
   ],
   "source": [
    "plt.figure(figsize=(15, 10))\n",
    "dendrogram(hierarchy, orientation=\"top\", distance_sort=\"descending\", show_leaf_counts=True)\n",
    "plt.show()"
   ]
  },
  {
   "cell_type": "markdown",
   "id": "16b5df5d",
   "metadata": {},
   "source": [
    "На том же датасете выподните кластеризацию, используя любой другой метод кластеризации (пока с произвольными гиперпараметрами)"
   ]
  },
  {
   "cell_type": "code",
   "execution_count": 10,
   "id": "6c7dd081",
   "metadata": {},
   "outputs": [],
   "source": [
    "from sklearn.metrics import adjusted_rand_score, adjusted_mutual_info_score, homogeneity_score, completeness_score, v_measure_score, silhouette_score\n",
    "\n",
    "def show_metrics(X, y, algorithm):\n",
    "    metrics={\n",
    "        \"ARI\": adjusted_rand_score(y, algorithm.labels_),\n",
    "        \"AMI\": adjusted_mutual_info_score(y, algorithm.labels_),\n",
    "        \"Homogenity\": homogeneity_score(y, algorithm.labels_),\n",
    "        \"Completeness\": completeness_score(y, algorithm.labels_),\n",
    "        \"V-measure\": v_measure_score(y, algorithm.labels_),\n",
    "        \"Silhouette\": silhouette_score(X, algorithm.labels_)\n",
    "    }\n",
    "    return metrics"
   ]
  },
  {
   "cell_type": "code",
   "execution_count": 11,
   "id": "16d253df",
   "metadata": {},
   "outputs": [
    {
     "data": {
      "text/plain": [
       "(array([0, 1, 2, 3, 4, 5, 6, 7], dtype=int32),\n",
       " array([154,  22,   6,   5,   6,  19,  12,  16]))"
      ]
     },
     "execution_count": 11,
     "metadata": {},
     "output_type": "execute_result"
    }
   ],
   "source": [
    "KMeansAlgo = KMeans()\n",
    "clusters = KMeansAlgo.fit_predict(X)\n",
    "np.unique(clusters, return_counts=True)"
   ]
  },
  {
   "cell_type": "code",
   "execution_count": 12,
   "id": "ff6ed33d",
   "metadata": {},
   "outputs": [
    {
     "data": {
      "text/plain": [
       "{'ARI': 0.17441259363060022,\n",
       " 'AMI': 0.3697502877249094,\n",
       " 'Homogenity': 0.3486974897845918,\n",
       " 'Completeness': 0.4806219508512911,\n",
       " 'V-measure': 0.4041667410297709,\n",
       " 'Silhouette': 0.7931628200479666}"
      ]
     },
     "execution_count": 12,
     "metadata": {},
     "output_type": "execute_result"
    }
   ],
   "source": [
    "show_metrics(X, y, KMeansAlgo)"
   ]
  },
  {
   "cell_type": "markdown",
   "id": "9b285fe2",
   "metadata": {},
   "source": [
    "Выполните оптимизацию гиперпараметров кластеризации (либо иерархической модели из п. 1, либо иной модели из п. 2, на ваш выбор; в случае иерархической кластеризации из п. 1 гиперпараметр — пороговое расстояние между центроидами, являющееся границей разбиения на кластеры). Оптимизацию выполните, используя одну из метрик качества кластеризации, для которых нам понадобится информация об исходных метках класса: Adjusted Rand Index (ARI), Adjusted Mutual Information (AMI), Гомогенность, полнота, V-мера."
   ]
  },
  {
   "cell_type": "code",
   "execution_count": 13,
   "id": "c2edd5be",
   "metadata": {},
   "outputs": [],
   "source": [
    "parametrs = {\n",
    "    \"n_clusters\": range(2, 10), \n",
    "    \"max_iter\": range(100, 500, 50), \n",
    "    \"tol\": [0.0001, 0.001, 0.01]\n",
    "}"
   ]
  },
  {
   "cell_type": "code",
   "execution_count": 14,
   "id": "5f46f938",
   "metadata": {},
   "outputs": [],
   "source": [
    "GridKMeansAlgo = GridSearchCV(\n",
    "    KMeans(), \n",
    "    parametrs, \n",
    "    scoring=\"v_measure_score\", \n",
    "    cv=5\n",
    ")"
   ]
  },
  {
   "cell_type": "code",
   "execution_count": 15,
   "id": "f2ec58cf",
   "metadata": {},
   "outputs": [
    {
     "data": {
      "text/plain": [
       "GridSearchCV(cv=5, estimator=KMeans(),\n",
       "             param_grid={'max_iter': range(100, 500, 50),\n",
       "                         'n_clusters': range(2, 10),\n",
       "                         'tol': [0.0001, 0.001, 0.01]},\n",
       "             scoring='v_measure_score')"
      ]
     },
     "execution_count": 15,
     "metadata": {},
     "output_type": "execute_result"
    }
   ],
   "source": [
    "GridKMeansAlgo.fit(X, y)"
   ]
  },
  {
   "cell_type": "code",
   "execution_count": 16,
   "id": "e30bf395",
   "metadata": {},
   "outputs": [
    {
     "name": "stdout",
     "output_type": "stream",
     "text": [
      "Лучшие параметры для Tuned KMeans: {'max_iter': 150, 'n_clusters': 9, 'tol': 0.0001}\n"
     ]
    }
   ],
   "source": [
    "print(f\"Лучшие параметры для Tuned KMeans: {GridKMeansAlgo.best_params_}\")"
   ]
  },
  {
   "cell_type": "code",
   "execution_count": 17,
   "id": "da3c46c6",
   "metadata": {},
   "outputs": [
    {
     "data": {
      "text/plain": [
       "(array([0, 1, 2, 3, 4, 5, 6, 7, 8], dtype=int32),\n",
       " array([154,  12,   6,  22,   4,  16,   5,   2,  19]))"
      ]
     },
     "execution_count": 17,
     "metadata": {},
     "output_type": "execute_result"
    }
   ],
   "source": [
    "np.unique(GridKMeansAlgo.best_estimator_.labels_, return_counts=True)"
   ]
  },
  {
   "cell_type": "code",
   "execution_count": 18,
   "id": "f1925d42",
   "metadata": {},
   "outputs": [
    {
     "data": {
      "text/plain": [
       "{'ARI': 0.17407123602885446,\n",
       " 'AMI': 0.36652567773581524,\n",
       " 'Homogenity': 0.35113107602924354,\n",
       " 'Completeness': 0.47812345437460674,\n",
       " 'V-measure': 0.40490343279189417,\n",
       " 'Silhouette': 0.7892252718090891}"
      ]
     },
     "execution_count": 18,
     "metadata": {},
     "output_type": "execute_result"
    }
   ],
   "source": [
    "show_metrics(X, y, GridKMeansAlgo.best_estimator_)"
   ]
  },
  {
   "cell_type": "markdown",
   "id": "7f0b2474",
   "metadata": {},
   "source": [
    "Используя алгоритм/модель из п. 2 выполните оптимизацию гиперпараметра количества кластеров, используя \"правило локтя\" (анализируем график силуэта)"
   ]
  },
  {
   "cell_type": "code",
   "execution_count": 19,
   "id": "5a2612ee",
   "metadata": {},
   "outputs": [
    {
     "data": {
      "application/vnd.jupyter.widget-view+json": {
       "model_id": "8ed110dd462f4ae2ba1bc55c40a9bdc1",
       "version_major": 2,
       "version_minor": 0
      },
      "text/plain": [
       "  0%|          | 0/48 [00:00<?, ?it/s]"
      ]
     },
     "metadata": {},
     "output_type": "display_data"
    }
   ],
   "source": [
    "scores = list()\n",
    "\n",
    "for cluster in tqdm(range(2, 50)):\n",
    "    clusters = KMeans(n_clusters=cluster, max_iter=150, tol=0.0001).fit_predict(X)\n",
    "    scores.append(silhouette_score(X, clusters))"
   ]
  },
  {
   "cell_type": "code",
   "execution_count": 20,
   "id": "54d02554",
   "metadata": {},
   "outputs": [
    {
     "data": {
      "image/png": "[encoded data removed]",
      "text/plain": [
       "<Figure size 432x288 with 1 Axes>"
      ]
     },
     "metadata": {
      "needs_background": "light"
     },
     "output_type": "display_data"
    }
   ],
   "source": [
    "plt.plot(range(2, 50), scores)\n",
    "plt.xlabel(\"n_clusters\")\n",
    "plt.ylabel(\"silhouette_score\")\n",
    "plt.grid(True)\n",
    "plt.show()"
   ]
  }
 ],
 "metadata": {
  "kernelspec": {
   "display_name": "Python 3 (ipykernel)",
   "language": "python",
   "name": "python3"
  },
  "language_info": {
   "codemirror_mode": {
    "name": "ipython",
    "version": 3
   },
   "file_extension": ".py",
   "mimetype": "text/x-python",
   "name": "python",
   "nbconvert_exporter": "python",
   "pygments_lexer": "ipython3",
   "version": "3.9.10"
  }
 },
 "nbformat": 4,
 "nbformat_minor": 5
}
